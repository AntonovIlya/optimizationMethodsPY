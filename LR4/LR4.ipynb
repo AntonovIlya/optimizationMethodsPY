{
 "cells": [
  {
   "cell_type": "markdown",
   "metadata": {},
   "source": [
    "<h1><center>Лабораторная работа №4</center></h1>\n",
    "<h2><center>Симплекс метод</center></h2>\n",
    "<div align=\"justify\">Симплекс метод - алгоритм решения оптимизационной задачи линейного программирования путём перебора вершин выпуклого многогранника в многомерном пространстве.</div>\n",
    "\n",
    "<p>Постановка задачи:</p>\n",
    "\n",
    "\\begin{align}\n",
    "  \\\n",
    "    \\left\\{\n",
    "                \\begin{array}{ll}\n",
    "                  \\ 22x_1 + 13x_2 + x_3 \\le \\ 310 \\\\\n",
    "                  \\ 5x_1 + 42x_2 + 12x_3 \\le \\ 430 \\\\\n",
    "                  \\ 12x_1 + 3x_2 + 22x_3 \\le \\ 450 \\\\\n",
    "                \\end{array}\n",
    "    \\right.\n",
    "  \\\n",
    "\\end{align} \n",
    "\n",
    "\\begin{align}\n",
    "\\ F = 9x_1 + 8x_2 + 2x_3 \\\n",
    "\\end{align}\n",
    "\n",
    "<p>Приведение к каноническоому виду:</p>\n",
    "\n",
    "\\begin{align}\n",
    "  \\\n",
    "    \\left\\{\n",
    "                \\begin{array}{ll}\n",
    "                  \\ 22x_1 + 13x_2 + x_3 + x_4 = \\ 310 \\\\\n",
    "                  \\ 5x_1 + 42x_2 + 12x_3 + x_5 = \\ 430 \\\\\n",
    "                  \\ 12x_1 + 3x_2 + 22x_3 + x_6 = \\ 450 \\\\\n",
    "                \\end{array}\n",
    "    \\right.\n",
    "  \\\n",
    "\\end{align} \n",
    "\n",
    "\\begin{align}\n",
    "\\ - 9x_1 - 8x_2 - 2x_3 + 0x_4 + 0x_5 + 0x_6  = F(x) \\\n",
    "\\end{align}\n",
    "\n",
    "<p>Определим базисные переменные, входящие в одно из уравнений с ненулевым коэффициентом, а в остальные с нулевыми:</p>\n",
    "\n",
    "\\begin{align}\n",
    "\\ x_4, x_5, x_6 \\\n",
    "\\end{align}\n",
    "\n",
    "<p>Составим симплекс таблицу.</p>\n",
    "\n",
    "<p>Итерация 0:</p>\n",
    "\n",
    "\\begin{array} {|r|r|}\\hline Базис: & x_1 & x_2 & x_3 & x_4 & x_5 & x_6 & x* \\\\ \\hline x_4 & 22 & 13 & 1 & 1 & 0 & 0 & 310 \\\\ \\hline x_5 & 5 & 42 & 12 & 0 & 1 & 0 & 430 \\\\ \\hline x_6 & 12 & 2 & 22 & 0 & 0 & 1 & 450 \\\\ \\hline F & -9 & -8 & -2 & 0 & 0 & 0 & 0 \\\\ \\hline  \\end{array}\n",
    "\n",
    "<p>Текущий план не оптимален, индексная строка содержит отрицательные элементы.</p>\n",
    "<p>Ведущий стобец: x1</p>\n",
    "<p>Ведущая строка: x4</p>\n",
    "<p>Ведущий элемент: 22</p>\n",
    "<p>Итерация 1:</p>\n",
    "\n",
    "\\begin{array} {|r|r|}\\hline Базис: & x_1 & x_2 & x_3 & x_4 & x_5 & x_6 & b* \\\\ \\hline x_1 & 1 & 0.59 & 0.0454 & 0.0454 & 0 & 0 & 14.1 \\\\ \\hline x_5 & 0 & 39.04 & 11.77 & -0.22 & 1 & 0 & 359.5 \\\\ \\hline x_6 & 0 & -4.1 & 21.45 & -0.54 & 0 & 1 & 280.2 \\\\ \\hline F & 0 & -2.68 & -1.6 & 0.41 & 0 & 0 & 126.3 \\\\ \\hline  \\end{array}\n",
    "\n",
    "<p>Текущий план не оптимален, индексная строка содержит отрицательные элементы.</p>\n",
    "<p>Ведущий стобец: x2</p>\n",
    "<p>Ведущая строка: x5</p>\n",
    "<p>Ведущий элемент: 39.04</p>\n",
    "<p>Итерация 2:</p>\n",
    "\n",
    "\\begin{array} {|r|r|}\\hline Базис: & x_1 & x_2 & x_3 & x_4 & x_5 & x_6 & b* \\\\ \\hline x_1 & 1 & 0 & -0.13 & 0.049 & -0.015 & 0 & 8.66 \\\\ \\hline x_2 & 0 & 1 & 0.3 & -0.006 & 0.026 & 0 & 9.2 \\\\ \\hline x_6 & 0 & 0 & 22.68 & -0.5646 & 0.106 & 1 & 318.554 \\\\ \\hline F & 0 & 0 & -0.79 & 0.394 & 0.07 & 0 & 151.513 \\\\ \\hline  \\end{array}\n",
    "\n",
    "<p>Текущий план не оптимален, индексная строка содержит отрицательные элементы.</p>\n",
    "<p>Ведущий стобец: x3</p>\n",
    "<p>Ведущая строка: x6</p>\n",
    "<p>Ведущий элемент: 22.68</p>\n",
    "<p>Итерация 3:</p>\n",
    "\n",
    "\\begin{array} {|r|r|}\\hline Базис: & x_1 & x_2 & x_3 & x_4 & x_5 & x_6 & b* \\\\ \\hline x_1 & 1 & 0 & 0 & 0.046 & -0.014 & 0.00572 & 10.480 \\\\ \\hline x_2 & 0 & 1 & 0 & 0.0015 & 0.0274 & -0.0132 & 4.986 \\\\ \\hline x_3 & 0 & 0 & 1 & -0.025 & 0.0047 & 0.044 & 14.046 \\\\ \\hline F & 0 & 0 & 0 & 0.374 & 0.073 & 0.035 & 162.6 \\\\ \\hline  \\end{array}\n",
    "\n",
    "<p>Текущий план оптимален, индексная строка  не содержит отрицательные элементы.</p>\n",
    "\n",
    "\\begin{align}\n",
    "\\ x_1 = 10,480, x_2 = 4,986, x_3 = 14,046 \\\\\n",
    "\\ F = 9 * 0,480 + 8 * 4,986 + 2 * 14,046 = 162.3 \\\\\n",
    "\\end{align}\n",
    "\n",
    "<p>Cоставление сипмлекс таблицы:</p>"
   ]
  },
  {
   "cell_type": "code",
   "execution_count": 6,
   "metadata": {},
   "outputs": [
    {
     "name": "stdout",
     "output_type": "stream",
     "text": [
      "22 13 1 1 0 0 310\n",
      "5 42 12 0 1 0 430\n",
      "12 3 22 0 0 1 450\n",
      "-9 -8 -2 0 0 0 0\n"
     ]
    }
   ],
   "source": [
    "import numpy\n",
    "simplexTable =[[22, 13, 1, 1, 0, 0, 310], [5, 42, 12, 0, 1, 0, 430], [12, 3, 22, 0, 0, 1, 450], [-9, -8, -2, 0, 0, 0, 0]]\n",
    "for i in simplexTable:\n",
    "    print(*i)"
   ]
  },
  {
   "cell_type": "markdown",
   "metadata": {},
   "source": [
    "<p>Функция, возвращающая индекс ведущей строки, ведущий столбец, ведущую переменную:</p>"
   ]
  },
  {
   "cell_type": "code",
   "execution_count": 7,
   "metadata": {},
   "outputs": [],
   "source": [
    "def row_column_cell(table):\n",
    "    columnIndex = table[-1].index(min(table[-1]))\n",
    "    minimalRatio = 1000\n",
    "    count = 0\n",
    "    column = []\n",
    "    for i in table:\n",
    "        column.append(i[columnIndex])\n",
    "        ratio = i[-1] / i[columnIndex]\n",
    "        if (0 < ratio < minimalRatio):\n",
    "            minimalRatio = ratio\n",
    "            rowIndex = count\n",
    "        count += 1\n",
    "    return rowIndex, column, table[rowIndex][columnIndex]"
   ]
  },
  {
   "cell_type": "markdown",
   "metadata": {},
   "source": [
    "<p>Функция, возвращающая новую симплекс таблицу:</p>"
   ]
  },
  {
   "cell_type": "code",
   "execution_count": 8,
   "metadata": {},
   "outputs": [],
   "source": [
    "def new_table(table, rowIndex, column, cell):\n",
    "    main_line =list(map((lambda x: x / cell), table[rowIndex]))\n",
    "    matrix = numpy.matrix(table)\n",
    "    new_table = table\n",
    "    for i in range(matrix.shape[0]):\n",
    "        if (i != rowIndex):\n",
    "            for j in range(len(table[i])):\n",
    "                new_table[i][j] = main_line[j] * (-column[i]) + table[i][j]\n",
    "    new_table[rowIndex] = main_line\n",
    "    return new_table"
   ]
  },
  {
   "cell_type": "markdown",
   "metadata": {},
   "source": [
    "<p>Основной алгоритм:</p>"
   ]
  },
  {
   "cell_type": "code",
   "execution_count": 9,
   "metadata": {},
   "outputs": [],
   "source": [
    "def main():\n",
    "    a = simplexTable\n",
    "    while (min(a[-1]) < 0):\n",
    "        a = new_table(a, row_column_cell(a)[0],row_column_cell(a)[1], row_column_cell(a)[2])\n",
    "    print(f'Fmax: {a[-1][-1]:1.3f}')"
   ]
  },
  {
   "cell_type": "markdown",
   "metadata": {},
   "source": [
    "<p>Найденный максимум совпал с расчётным:</p>"
   ]
  },
  {
   "cell_type": "code",
   "execution_count": 10,
   "metadata": {},
   "outputs": [
    {
     "name": "stdout",
     "output_type": "stream",
     "text": [
      "Fmax: 162.498\n"
     ]
    }
   ],
   "source": [
    "main()"
   ]
  },
  {
   "cell_type": "code",
   "execution_count": null,
   "metadata": {},
   "outputs": [],
   "source": []
  }
 ],
 "metadata": {
  "kernelspec": {
   "display_name": "Python 3",
   "language": "python",
   "name": "python3"
  },
  "language_info": {
   "codemirror_mode": {
    "name": "ipython",
    "version": 3
   },
   "file_extension": ".py",
   "mimetype": "text/x-python",
   "name": "python",
   "nbconvert_exporter": "python",
   "pygments_lexer": "ipython3",
   "version": "3.7.4"
  }
 },
 "nbformat": 4,
 "nbformat_minor": 4
}
